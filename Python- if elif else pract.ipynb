{
 "cells": [
  {
   "cell_type": "code",
   "execution_count": 1,
   "metadata": {},
   "outputs": [
    {
     "name": "stdout",
     "output_type": "stream",
     "text": [
      "a\n",
      "It is vowel\n"
     ]
    }
   ],
   "source": [
    "# Vowels \n",
    "\n",
    "Lis=['a','e','i','o','u']\n",
    "N=input()\n",
    "if N in Lis:\n",
    "      print('It is vowel')\n",
    "else:\n",
    "      print('It is not vowel')\n",
    "        "
   ]
  },
  {
   "cell_type": "markdown",
   "metadata": {},
   "source": [
    "# if elif else"
   ]
  },
  {
   "cell_type": "code",
   "execution_count": null,
   "metadata": {},
   "outputs": [],
   "source": [
    "#  Syntax\n",
    "#   if <condition>:\n",
    "#        <statement/expression>\n",
    "#    elif <condition>:\n",
    "#     <statement/expression>\n",
    "#   else:\n",
    "#      <statement/expression>"
   ]
  },
  {
   "cell_type": "code",
   "execution_count": 2,
   "metadata": {},
   "outputs": [
    {
     "name": "stdout",
     "output_type": "stream",
     "text": [
      "Sonal\n",
      "Hello\n"
     ]
    }
   ],
   "source": [
    "a=input()\n",
    "if a=='yash':\n",
    "    print('HI')\n",
    "elif a=='Sonal':\n",
    "    print('Hello')\n",
    "else:\n",
    "    print('Good morning')"
   ]
  },
  {
   "cell_type": "code",
   "execution_count": 3,
   "metadata": {},
   "outputs": [
    {
     "name": "stdout",
     "output_type": "stream",
     "text": [
      "yash\n",
      "HI\n"
     ]
    }
   ],
   "source": [
    "a=input()\n",
    "if a=='yash':\n",
    "    print('HI')\n",
    "elif a=='Sonal':\n",
    "    print('Hello')\n",
    "elif a=='Neha':   \n",
    "     print('Good morning')\n",
    "else:\n",
    "    print('Invalid responce')"
   ]
  },
  {
   "cell_type": "code",
   "execution_count": null,
   "metadata": {},
   "outputs": [],
   "source": [
    "# EXERCISE:-\n",
    "# program to write given number is positive or negative \n",
    "# take three integers as input and find the greastes number\n",
    "# find the given input number is prime or not"
   ]
  },
  {
   "cell_type": "code",
   "execution_count": 4,
   "metadata": {},
   "outputs": [
    {
     "name": "stdout",
     "output_type": "stream",
     "text": [
      "-2\n",
      "Number is negative\n"
     ]
    }
   ],
   "source": [
    "#program to write given number is positive or negative \n",
    "N=int(input())\n",
    "if N>0:\n",
    "    print('Number is positive')\n",
    "elif N<0:\n",
    "     print('Number is negative')\n",
    "else:\n",
    "     print('Invalid input')"
   ]
  },
  {
   "cell_type": "code",
   "execution_count": 5,
   "metadata": {},
   "outputs": [
    {
     "name": "stdout",
     "output_type": "stream",
     "text": [
      "4\n",
      "5\n",
      "6\n",
      "greaster number is 6\n"
     ]
    }
   ],
   "source": [
    "# take three integers as input and find the greastes number\n",
    "a=int(input())\n",
    "b=int(input())\n",
    "c=int(input())\n",
    "\n",
    "if a>b and a>c:\n",
    "    print('greatest number is',a)\n",
    "elif b>a and b>c:\n",
    "    print('greatest number is',b)\n",
    "elif c>a and c>b:\n",
    "    print('greaster number is',c)\n",
    "else:\n",
    "    print('All are equal')"
   ]
  },
  {
   "cell_type": "code",
   "execution_count": 6,
   "metadata": {},
   "outputs": [
    {
     "name": "stdout",
     "output_type": "stream",
     "text": [
      "4\n",
      "Number is prime\n"
     ]
    }
   ],
   "source": [
    "N=int(input())\n",
    "\n",
    "if N%2==0 and N!=2:\n",
    "    print('Number is prime')\n",
    "else:\n",
    "    print('Number is not prime')"
   ]
  },
  {
   "cell_type": "code",
   "execution_count": null,
   "metadata": {},
   "outputs": [],
   "source": []
  },
  {
   "cell_type": "code",
   "execution_count": null,
   "metadata": {},
   "outputs": [],
   "source": []
  },
  {
   "cell_type": "code",
   "execution_count": null,
   "metadata": {},
   "outputs": [],
   "source": []
  },
  {
   "cell_type": "code",
   "execution_count": null,
   "metadata": {},
   "outputs": [],
   "source": []
  },
  {
   "cell_type": "code",
   "execution_count": null,
   "metadata": {},
   "outputs": [],
   "source": []
  },
  {
   "cell_type": "code",
   "execution_count": null,
   "metadata": {},
   "outputs": [],
   "source": []
  },
  {
   "cell_type": "code",
   "execution_count": null,
   "metadata": {},
   "outputs": [],
   "source": []
  },
  {
   "cell_type": "code",
   "execution_count": null,
   "metadata": {},
   "outputs": [],
   "source": []
  },
  {
   "cell_type": "code",
   "execution_count": null,
   "metadata": {},
   "outputs": [],
   "source": []
  },
  {
   "cell_type": "code",
   "execution_count": null,
   "metadata": {},
   "outputs": [],
   "source": []
  }
 ],
 "metadata": {
  "kernelspec": {
   "display_name": "Python 3",
   "language": "python",
   "name": "python3"
  },
  "language_info": {
   "codemirror_mode": {
    "name": "ipython",
    "version": 3
   },
   "file_extension": ".py",
   "mimetype": "text/x-python",
   "name": "python",
   "nbconvert_exporter": "python",
   "pygments_lexer": "ipython3",
   "version": "3.7.3"
  }
 },
 "nbformat": 4,
 "nbformat_minor": 2
}
