{
 "cells": [
  {
   "cell_type": "markdown",
   "metadata": {},
   "source": [
    "# 28/09/2019\n",
    "# Dimensionality Reduction"
   ]
  },
  {
   "cell_type": "code",
   "execution_count": null,
   "metadata": {},
   "outputs": [],
   "source": [
    "import numpy as np\n",
    "import pandas as pd\n",
    "import matplotlib.pyplot as plt"
   ]
  },
  {
   "cell_type": "code",
   "execution_count": null,
   "metadata": {},
   "outputs": [],
   "source": [
    "d0=pd.read_csv(\"E:/Neha Python/Machin Learning Notes/mnist_train.csv\")\n",
    "\n",
    "print(d0.head(10)) # print first 10 values\n",
    "\n",
    "#save the labels into a variable l\n",
    "l=d0['label']\n",
    "\n",
    "# Drop the label feature and store the pixel data in d\n",
    "d=d0.drop('label',axis=1)"
   ]
  },
  {
   "cell_type": "code",
   "execution_count": null,
   "metadata": {},
   "outputs": [],
   "source": [
    "print(d.shape)\n",
    "print(l.shape)"
   ]
  },
  {
   "cell_type": "code",
   "execution_count": null,
   "metadata": {},
   "outputs": [],
   "source": [
    "# Display or plot a number\n",
    "plt.figure(figsize=(7,7))\n",
    "idx= 30009 # idx means index number means a row number at which a perticular number image is stored \n",
    "#(in this file idx varies from 0 to 41999 as we have same row numbers)\n",
    "\n",
    "grid_data=d.iloc[idx].as_matrix().reshape(28,28)  # reshape from 1d to 2d\n",
    "plt.imshow(grid_data,interpolation='none',cmap='gray')\n",
    "plt.show()\n",
    "\n",
    "print(l[idx])"
   ]
  },
  {
   "cell_type": "markdown",
   "metadata": {},
   "source": [
    "# 2D Visualization using PCA"
   ]
  },
  {
   "cell_type": "code",
   "execution_count": null,
   "metadata": {},
   "outputs": [],
   "source": [
    "\n",
    "# 2D display using\n",
    "\n",
    "#labels=l.head(15000)\n",
    "#data= d.head(15000)\n",
    "\n",
    "\n",
    "labels=l.head(42000)\n",
    "data= d.head(42000)\n",
    "\n",
    "print('the shape of sample data=',data.shape)"
   ]
  },
  {
   "cell_type": "code",
   "execution_count": null,
   "metadata": {},
   "outputs": [],
   "source": [
    "# Data preprocessing : Standardizing the data\n",
    "from sklearn.preprocessing import StandardScaler\n",
    "\n",
    "standardized_data=StandardScaler().fit_transform(data)\n",
    "\n",
    "print(standardized_data.shape)"
   ]
  },
  {
   "cell_type": "code",
   "execution_count": null,
   "metadata": {},
   "outputs": [],
   "source": [
    "#find the co-varience matrix with A^T * A\n",
    "sample_data=standardized_data\n",
    "\n",
    "# Matrix multiplication using numpy\n",
    "\n",
    "covar_matrix=np.matmul(sample_data.T,sample_data) \n",
    "\n",
    "print(\"The shape of covarience matrix= \", covar_matrix.shape)"
   ]
  },
  {
   "cell_type": "code",
   "execution_count": null,
   "metadata": {},
   "outputs": [],
   "source": [
    "# Finding the top two eigen values and corresponding eigen vectors\n",
    "#for projecting onto a 2D space\n",
    "\n",
    "from scipy.linalg import eigh #linagl- Linear algebra ,eigh-eigen vectors\n",
    "\n",
    "# the parameter 'eigvals' is defined (low vaue to high value)\n",
    "# eigh function will return the eigh values in asending order\n",
    "# this code generates only the top 2 (782 and 783) eigenvalues.\n",
    "values,vectors=eigh(covar_matrix,eigvals=(782,783))\n",
    "\n",
    "print(\"Shape of eign vectors =\",vectors.shape)\n",
    "print(vectors.shape)\n",
    "vectors=vectors.T\n",
    "print(vectors.shape)\n",
    "\n",
    "# Here the vectors[1] represent the eigen vector corresponding 1st principal\n",
    "#Here the vectors[0] represent the eigen vector corresponding 2nd principal"
   ]
  },
  {
   "cell_type": "code",
   "execution_count": null,
   "metadata": {},
   "outputs": [],
   "source": [
    "# projecting the origial data sample on the plane\n",
    "# formed by two principal eigen vectrs by vector-vector multiplication\n",
    "\n",
    "\n",
    "import matplotlib.pyplot as plt\n",
    "new_coor=np.matmul(vectors,sample_data.T)\n",
    "\n",
    "print(\"resultant new data points' shape \",vectors.shape,'X',sample_data.T.shape,\"=\", new_coor.shape)"
   ]
  },
  {
   "cell_type": "code",
   "execution_count": null,
   "metadata": {},
   "outputs": [],
   "source": [
    "new_coor=np.vstack((new_coor,labels)).T   # Data masaging\n",
    "\n",
    "#Creating new data frame from ploting by label points\n",
    "dataframe=pd.DataFrame(data=new_coor,columns=(\"1st_principal\",\"2nd_principal\",\"label\"))\n",
    "dataframe.head()"
   ]
  },
  {
   "cell_type": "code",
   "execution_count": null,
   "metadata": {},
   "outputs": [],
   "source": [
    "import seaborn as sn\n",
    "sn.FacetGrid(dataframe,hue='label',size=6).map(plt.scatter,'1st_principal','2nd_principal','label').add_legend()\n",
    "# 1st_pricipal and 2nd - part of component analysis\n",
    "plt.show()"
   ]
  },
  {
   "cell_type": "markdown",
   "metadata": {},
   "source": [
    "# \n",
    "# 29/09/2019\n",
    "# PCA using Scikit-Learn"
   ]
  },
  {
   "cell_type": "code",
   "execution_count": null,
   "metadata": {},
   "outputs": [],
   "source": [
    "# initializing the pca\n",
    "from sklearn import decomposition\n",
    "pca=decomposition.PCA()"
   ]
  },
  {
   "cell_type": "code",
   "execution_count": null,
   "metadata": {},
   "outputs": [],
   "source": [
    "# configuring the parameters\n",
    "# the no. of components=2 for 2D\n",
    "pca.n_components=2  # can vary\n",
    "pca_data=pca.fit_transform(sample_data)\n",
    "\n",
    "#pca_reduce will contain the 2D projects of simple data\n",
    "print(\"shape of pca_reduce.shape=\", pca_data.shape)"
   ]
  },
  {
   "cell_type": "code",
   "execution_count": null,
   "metadata": {},
   "outputs": [],
   "source": [
    "# attaching the label for each 2D data points, DATA MASSAGING\n",
    "pca_data=np.vstack((pca_data.T,labels)).T\n",
    "\n",
    "# Creating a new data frame which helps us in ploting the resultant data\n",
    "pca_df=pd.DataFrame(data=pca_data, columns=(\"1st_principal\",\"2nd_principal\",\"label\"))\n",
    "sn.FacetGrid(pca_df,hue='label',size=6).map(plt.scatter,'1st_principal','2nd_principal').add_legend()\n",
    "plt.show()"
   ]
  },
  {
   "cell_type": "markdown",
   "metadata": {},
   "source": [
    "# t-SNE using Scikit-Learn"
   ]
  },
  {
   "cell_type": "code",
   "execution_count": null,
   "metadata": {},
   "outputs": [],
   "source": [
    "# TSNE : Most Accurate techique in all\n",
    "\n",
    "from sklearn.manifold import TSNE\n",
    "\n",
    "# Picking the top 1000 points as TSNE takes a lot of time for 15k points\n",
    "data_1000 = standardized_data[0:1000,:]\n",
    "labels_1000=labels[0:1000]\n",
    "\n",
    "model=TSNE(n_components=3, random_state=0,perplexity=50,n_iter=5000) # For 2D: component=2, and for 3D components =3 is taken ,can be vareied\n",
    "#default perplexity=30\n",
    "#default learning rate=200\n",
    "# default MAximum no. of iterrations for the optimization=1000\n",
    "\n",
    "tsne_data=model.fit_transform(data_1000)\n",
    "\n",
    "\n",
    "\n",
    "# Creating a new data frame which helps us in ploting the resultant data\n",
    "tsne_data=np.vstack((tsne_data.T,labels_1000)).T\n",
    "tsne_df=pd.DataFrame(data=tsne_data, columns=(\"Dim_1\",\"Dim_2\",\"Dim_3\",\"label\"))\n",
    "\n",
    "#Ploting the result of tsne\n",
    "\n",
    "sn.FacetGrid(tsne_df,hue='label',size=6).map(plt.scatter,'Dim_1','Dim_2','Dim_3').add_legend()\n",
    "plt.title('With perplexity=50, n_iterations=5000')\n",
    "plt.show()"
   ]
  },
  {
   "cell_type": "code",
   "execution_count": null,
   "metadata": {},
   "outputs": [],
   "source": []
  },
  {
   "cell_type": "code",
   "execution_count": null,
   "metadata": {},
   "outputs": [],
   "source": []
  },
  {
   "cell_type": "code",
   "execution_count": null,
   "metadata": {},
   "outputs": [],
   "source": []
  },
  {
   "cell_type": "code",
   "execution_count": null,
   "metadata": {},
   "outputs": [],
   "source": []
  },
  {
   "cell_type": "code",
   "execution_count": null,
   "metadata": {},
   "outputs": [],
   "source": []
  },
  {
   "cell_type": "code",
   "execution_count": null,
   "metadata": {},
   "outputs": [],
   "source": []
  },
  {
   "cell_type": "code",
   "execution_count": null,
   "metadata": {},
   "outputs": [],
   "source": []
  },
  {
   "cell_type": "markdown",
   "metadata": {},
   "source": []
  }
 ],
 "metadata": {
  "kernelspec": {
   "display_name": "Python 3",
   "language": "python",
   "name": "python3"
  },
  "language_info": {
   "codemirror_mode": {
    "name": "ipython",
    "version": 3
   },
   "file_extension": ".py",
   "mimetype": "text/x-python",
   "name": "python",
   "nbconvert_exporter": "python",
   "pygments_lexer": "ipython3",
   "version": "3.7.3"
  }
 },
 "nbformat": 4,
 "nbformat_minor": 2
}
